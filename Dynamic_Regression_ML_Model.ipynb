{
 "cells": [
  {
   "cell_type": "markdown",
   "metadata": {},
   "source": [
    "# Functions ``Fit`` and ``Predict`` for Model of dynamic selection of Regression model"
   ]
  },
  {
   "cell_type": "code",
   "execution_count": 10,
   "metadata": {},
   "outputs": [],
   "source": [
    "class Dyn_reg_model():\n",
    "    \n",
    "    def __init__(self, reg_models, clf_model):\n",
    "        \n",
    "        self.reg_models = reg_models\n",
    "        self.clf_model = clf_model\n",
    "        self.label_encoder = None\n",
    "        self.data_frame = None\n",
    "        self.fitted_ = False  \n",
    "                    \n",
    "    def fit(self, X, y):\n",
    "        \n",
    "        self.data_frame = pd.DataFrame()\n",
    "        kf =KFold(n_splits=5)\n",
    "        \n",
    "        for model in self.reg_models:\n",
    "            y_predicted = np.zeros(X.shape[0])\n",
    "            for train_index, test_index in kf.split(X):\n",
    "                X_train, X_test = X[train_index], X[test_index]\n",
    "                y_train, y_test = y[train_index], y[test_index]\n",
    "                self.reg_models[model].fit(X_train, y_train)\n",
    "                y_pred = self.reg_models[model].predict(X_test)\n",
    "                y_pred = np.array(y_pred)\n",
    "                y_predicted[test_index] = y_pred\n",
    "            self.data_frame[model] = (y - y_predicted)**2\n",
    "            \n",
    "            \n",
    "        best_model_index = []\n",
    "        for index, row in self.data_frame.iterrows():\n",
    "            best_model_index.append(row.idxmin())\n",
    "        self.data_frame['best_model_index'] = best_model_index\n",
    "        clf_model = self.clf_model\n",
    "        self.label_encoder = LabelEncoder()\n",
    "        labels = self.label_encoder.fit_transform(self.data_frame.best_model_index)\n",
    "        self.clf_model.fit(X, labels)\n",
    "        \n",
    "        for model in self.reg_models:\n",
    "            self.reg_models[model].fit(X, y)\n",
    "            \n",
    "        self.fitted_ = True\n",
    "\n",
    "    def predict(self, X):\n",
    "        \n",
    "        if not self.fitted_:\n",
    "            print('Model is not fitted yet!!!') \n",
    "        else:\n",
    "            predicted = []\n",
    "            for x in X:\n",
    "                model_index = self.clf_model.predict(x.reshape(1, -1))\n",
    "                model_name = self.label_encoder.inverse_transform(model_index)[0]\n",
    "                pred = self.reg_models[model_name].predict(x.reshape(1, -1))[0]\n",
    "                predicted.append(pred)\n",
    "        return np.array(predicted)"
   ]
  },
  {
   "cell_type": "markdown",
   "metadata": {},
   "source": [
    "## Cross-validation function"
   ]
  },
  {
   "cell_type": "code",
   "execution_count": 11,
   "metadata": {},
   "outputs": [],
   "source": [
    "def cv_score(model, X, y, cv = 4):\n",
    "    kf = KFold(n_splits = cv)\n",
    "    result_test = []\n",
    "    result_train = []\n",
    "    y_pred = np.zeros(y.shape)\n",
    "    for train_index, test_index in kf.split(X, y):\n",
    "        model.fit(X[train_index], y[train_index])\n",
    "        result_train.append(mean_squared_error(y[train_index], model.predict(X[train_index])))\n",
    "        result_test.append(mean_squared_error(y[test_index], model.predict(X[test_index])))\n",
    "        y_pred[test_index] = model.predict(X[test_index])\n",
    "    return np.array(result_test), np.array(result_train), y_pred"
   ]
  },
  {
   "cell_type": "markdown",
   "metadata": {},
   "source": [
    "### Import Libraries"
   ]
  },
  {
   "cell_type": "code",
   "execution_count": 12,
   "metadata": {},
   "outputs": [],
   "source": [
    "import pandas as pd\n",
    "import numpy as np\n",
    "import matplotlib\n",
    "import math\n",
    "from time import time\n",
    "from copy import deepcopy\n",
    "import matplotlib.pyplot as plt\n",
    "from scipy.stats import skew\n",
    "\n",
    "\n",
    "%matplotlib inline\n",
    "\n",
    "import warnings\n",
    "warnings.filterwarnings('ignore')\n",
    "\n",
    "from sklearn.model_selection import KFold\n",
    "from sklearn.metrics import mean_squared_error, accuracy_score\n",
    "from sklearn.preprocessing import LabelEncoder\n",
    "from sklearn.model_selection import cross_val_score\n",
    "\n",
    "#Regression Models\n",
    "from sklearn.linear_model import LassoCV, RidgeCV, ElasticNetCV\n",
    "from sklearn.kernel_ridge import KernelRidge\n",
    "from lightgbm import LGBMRegressor\n",
    "from sklearn.tree import DecisionTreeRegressor\n",
    "import xgboost\n",
    "from sklearn.ensemble import GradientBoostingRegressor, RandomForestRegressor, AdaBoostRegressor, ExtraTreesRegressor\n",
    "\n",
    "#Classification models\n",
    "from sklearn.tree import DecisionTreeClassifier\n",
    "from sklearn.naive_bayes import GaussianNB\n",
    "from sklearn.neighbors import KNeighborsClassifier\n",
    "from sklearn.linear_model import LogisticRegression\n",
    "from sklearn.gaussian_process import GaussianProcessClassifier\n",
    "from sklearn.ensemble import AdaBoostClassifier, BaggingClassifier,ExtraTreesClassifier, GradientBoostingClassifier, RandomForestClassifier, VotingClassifier\n",
    "from sklearn.svm import SVC\n",
    "from lightgbm import LGBMClassifier"
   ]
  },
  {
   "cell_type": "markdown",
   "metadata": {},
   "source": [
    "### Set of models"
   ]
  },
  {
   "cell_type": "code",
   "execution_count": 29,
   "metadata": {},
   "outputs": [],
   "source": [
    "mr_models = {\n",
    "#             'lr' : LassoCV(alphas = [1, 0.1, 0.001, 0.0005], cv = 4), \n",
    "#             'kr' : KernelRidge(alpha=0.4, kernel='linear'),\n",
    "#             'rr' : RidgeCV(alphas=(0.1, 1.0, 10.0)),\n",
    "#             'en' : ElasticNetCV(l1_ratio=0.8, eps=0.00001, n_alphas=100, cv = 4),\n",
    "#             'lgbmr' : LGBMRegressor(objective='regression',num_leaves=5, learning_rate=0.05, n_estimators=600, max_bin = 50,\n",
    "#                                     bagging_fraction = 0.6, bagging_freq = 5, feature_fraction = 0.25,feature_fraction_seed=9,\n",
    "#                                     bagging_seed=9, min_data_in_leaf = 6, min_sum_hessian_in_leaf = 11),\n",
    "#             'dtr' : DecisionTreeRegressor(),\n",
    "            'gbr' : GradientBoostingRegressor(loss='ls', learning_rate=0.2, n_estimators=100, random_state=103),\n",
    "            'xgbr' : xgboost.XGBRegressor(max_depth=2, learning_rate=0.2, n_estimators=100, silent=True, objective='reg:linear', \n",
    "                            booster='gbtree', n_jobs=1, nthread=None, gamma=0, min_child_weight=1, max_delta_step=0, subsample=1, \n",
    "                            colsample_bytree=1, colsample_bylevel=1, reg_alpha=0, reg_lambda=1, scale_pos_weight=1, base_score=0.5, \n",
    "                            random_state=0, seed=None, missing=None),\n",
    "#             'rfr' : RandomForestRegressor(criterion='mse', max_depth=None, min_samples_split=2, min_samples_leaf=1, \n",
    "#                                        min_weight_fraction_leaf=0.0, max_features='auto', max_leaf_nodes=None, min_impurity_decrease=0.0, \n",
    "#                                        min_impurity_split=None, bootstrap=True, oob_score=False),             \n",
    "#             'etr' : ExtraTreesRegressor(),\n",
    "#             'abr' : AdaBoostRegressor()\n",
    "            }\n",
    "\n",
    "model = { \n",
    "            'lasso' : LassoCV(alphas = [1, 0.1, 0.001, 0.0005], cv = 4), \n",
    "            'kr'    : KernelRidge(alpha=0.4, kernel='linear'),\n",
    "            'ridge' : RidgeCV(alphas=(0.1, 1.0, 10.0)),\n",
    "            'elast' : ElasticNetCV(l1_ratio=0.8, eps=0.00001, n_alphas=100, cv = 4),\n",
    "            'lgbm'  : LGBMRegressor(objective='regression',num_leaves=5, learning_rate=0.05, n_estimators=600,\n",
    "                        max_bin = 50, bagging_fraction = 0.6, bagging_freq = 5, feature_fraction = 0.25,\n",
    "                        feature_fraction_seed=9, bagging_seed=9, min_data_in_leaf = 6, min_sum_hessian_in_leaf = 11),\n",
    "            'dtr'    : DecisionTreeRegressor(),\n",
    "            'gbr'    : GradientBoostingRegressor(loss='ls', learning_rate=0.1, n_estimators=100, random_state=103),\n",
    "            'xgbr'   : xgboost.XGBRegressor(max_depth=2, learning_rate=0.2, n_estimators=100, silent=True, objective='reg:linear', \n",
    "                            booster='gbtree', n_jobs=1, nthread=None, gamma=0, min_child_weight=1, max_delta_step=0, subsample=1, \n",
    "                            colsample_bytree=1, colsample_bylevel=1, reg_alpha=0, reg_lambda=1, scale_pos_weight=1, base_score=0.5, \n",
    "                            random_state=0, seed=None, missing=None),\n",
    "            'rfr' : RandomForestRegressor(criterion='mse', max_depth=None, min_samples_split=2, min_samples_leaf=1, \n",
    "                                       min_weight_fraction_leaf=0.0, max_features='auto', max_leaf_nodes=None, min_impurity_decrease=0.0, \n",
    "                                       min_impurity_split=None, bootstrap=True, oob_score=False),\n",
    "            'abr' : AdaBoostRegressor(),\n",
    "            'etr' : ExtraTreesRegressor(),\n",
    "            'meta-learning_r'    : Dyn_reg_model(mr_models, clf_model = ExtraTreesClassifier(n_estimators = 50, max_depth = None, class_weight = 'balanced', random_state = 101))}"
   ]
  },
  {
   "cell_type": "markdown",
   "metadata": {},
   "source": [
    "### Load Data"
   ]
  },
  {
   "cell_type": "code",
   "execution_count": 30,
   "metadata": {},
   "outputs": [
    {
     "name": "stdout",
     "output_type": "stream",
     "text": [
      "(506, 13) (506,)\n"
     ]
    }
   ],
   "source": [
    "from sklearn.datasets import load_boston\n",
    "\n",
    "X_train, y_train = load_boston(return_X_y = True)\n",
    "print(X_train.shape, y_train.shape)"
   ]
  },
  {
   "cell_type": "markdown",
   "metadata": {},
   "source": [
    "### Results"
   ]
  },
  {
   "cell_type": "code",
   "execution_count": 31,
   "metadata": {
    "scrolled": true
   },
   "outputs": [
    {
     "name": "stdout",
     "output_type": "stream",
     "text": [
      "lasso : rmse.train =  22.99 (  5.62) rmse.test =  42.95 ( 17.41) cv_time =   0.08 s\n",
      "   kr : rmse.train =  22.80 (  5.28) rmse.test =  40.45 ( 22.49) cv_time =   0.06 s\n",
      "ridge : rmse.train =  20.21 (  4.09) rmse.test =  42.18 ( 19.58) cv_time =   0.03 s\n",
      "elast : rmse.train =  22.78 (  5.75) rmse.test =  42.05 ( 16.98) cv_time =   0.54 s\n",
      " lgbm : rmse.train =   2.83 (  0.49) rmse.test =  24.44 ( 12.27) cv_time =   0.57 s\n",
      "  dtr : rmse.train =   0.00 (  0.00) rmse.test =  33.97 ( 13.51) cv_time =   0.02 s\n",
      "  gbr : rmse.train =   1.62 (  0.11) rmse.test =  19.79 ( 11.80) cv_time =   0.27 s\n",
      " xgbr : rmse.train =   2.56 (  0.26) rmse.test =  21.34 ( 11.41) cv_time =   0.23 s\n",
      "  rfr : rmse.train =   1.99 (  0.41) rmse.test =  22.81 ( 10.86) cv_time =   0.14 s\n",
      "  abr : rmse.train =   7.28 (  0.77) rmse.test =  24.93 ( 12.58) cv_time =   0.46 s\n",
      "  etr : rmse.train =   0.00 (  0.00) rmse.test =  22.84 ( 11.55) cv_time =   0.11 s\n",
      "meta-learning_r : rmse.train =   1.88 (  0.39) rmse.test =  18.69 ( 10.00) cv_time =   3.54 s\n"
     ]
    }
   ],
   "source": [
    "res = {}\n",
    "pred = {}\n",
    "for name in model:\n",
    "    start = time()\n",
    "    res_test, res_train, y_pred = cv_score(model[name], X_train, y_train )\n",
    "    res[name + '_train'] = res_train \n",
    "    res[name + '_test' ] = res_test\n",
    "    pred[name] = y_pred\n",
    "    print('%5s : rmse.train = %6.2f (%6.2f) rmse.test = %6.2f (%6.2f) cv_time = %6.2f s' \n",
    "          %(name, res_train.mean(), res_train.std(), res_test.mean(), res_test.std(), time() - start))"
   ]
  },
  {
   "cell_type": "markdown",
   "metadata": {},
   "source": [
    "### Results of all models and new model (using all regression models and  GuasianNB classifier)\n",
    "\n",
    "lasso : rmse.train =  22.99 (  5.62) rmse.test =  **42.95 ( 17.41)** cv_time =   0.09 s  \n",
    "   kr : rmse.train =  22.80 (  5.28) rmse.test =  **40.45 ( 22.49)** cv_time =   0.07 s  \n",
    "ridge : rmse.train =  20.21 (  4.09) rmse.test =  **42.18 ( 19.58)** cv_time =   0.02 s  \n",
    "elast : rmse.train =  22.78 (  5.75) rmse.test =  **42.05 ( 16.98)** cv_time =   0.55 s  \n",
    " lgbm : rmse.train =   2.83 (  0.49) rmse.test =  **24.44 ( 12.27)** cv_time =   0.67 s  \n",
    "  dtr : rmse.train =   0.00 (  0.00) rmse.test =  **39.02 ( 17.00)** cv_time =   0.02 s  \n",
    "  gbr : rmse.train =   1.62 (  0.11) rmse.test =  **19.79 ( 11.80)** cv_time =   0.26 s  \n",
    " xgbr : rmse.train =   2.56 (  0.26) rmse.test =  **21.34 ( 11.41)** cv_time =   0.23 s  \n",
    "  rfr : rmse.train =   2.14 (  0.35) rmse.test =  **24.06 ( 11.67)** cv_time =   0.15 s  \n",
    "  abr : rmse.train =   7.41 (  0.93) rmse.test =  **26.06 ( 12.70)** cv_time =   0.54 s  \n",
    "  etr : rmse.train =   0.00 (  0.00) rmse.test =  **28.83 ( 15.31)** cv_time =   0.12 s  \n",
    "**meta-learning_r** : rmse.train =   8.74 (  2.28) rmse.test =  **23.96 ( 11.21)** cv_time =  14.99 s"
   ]
  },
  {
   "cell_type": "markdown",
   "metadata": {},
   "source": [
    "### Results using 2 best regression models (gbr, xgbr)"
   ]
  },
  {
   "cell_type": "markdown",
   "metadata": {},
   "source": [
    "lasso : rmse.train =  22.99 (  5.62) rmse.test =  **42.95 ( 17.41)** cv_time =   0.08 s  \n",
    "   kr : rmse.train =  22.80 (  5.28) rmse.test =  **40.45 ( 22.49)** cv_time =   0.06 s  \n",
    "ridge : rmse.train =  20.21 (  4.09) rmse.test =  **42.18 ( 19.58)** cv_time =   0.03 s  \n",
    "elast : rmse.train =  22.78 (  5.75) rmse.test =  **42.05 ( 16.98)** cv_time =   0.54 s  \n",
    " lgbm : rmse.train =   2.83 (  0.49) rmse.test =  **24.44 ( 12.27)** cv_time =   0.57 s  \n",
    "  dtr : rmse.train =   0.00 (  0.00) rmse.test =  **33.97 ( 13.51)** cv_time =   0.02 s  \n",
    "  gbr : rmse.train =   1.62 (  0.11) rmse.test =  **19.79 ( 11.80)** cv_time =   0.27 s  \n",
    " xgbr : rmse.train =   2.56 (  0.26) rmse.test =  **21.34 ( 11.41)** cv_time =   0.23 s  \n",
    "  rfr : rmse.train =   1.99 (  0.41) rmse.test =  **22.81 ( 10.86)** cv_time =   0.14 s  \n",
    "  abr : rmse.train =   7.28 (  0.77) rmse.test =  **24.93 ( 12.58)** cv_time =   0.46 s  \n",
    "  etr : rmse.train =   0.00 (  0.00) rmse.test =  **22.84 ( 11.55)** cv_time =   0.11 s  \n",
    "meta-learning_r : rmse.train =   1.88 (  0.39) rmse.test =  **18.69 ( 10.00)** cv_time =   3.54 s"
   ]
  },
  {
   "cell_type": "markdown",
   "metadata": {},
   "source": [
    "### Best classification model selection"
   ]
  },
  {
   "cell_type": "code",
   "execution_count": 32,
   "metadata": {},
   "outputs": [
    {
     "name": "stdout",
     "output_type": "stream",
     "text": [
      "dtc : 0.460 (+/-0.049)   0.04 s\n",
      "gnb : 0.443 (+/-0.092)   0.01 s\n",
      "knc : 0.482 (+/-0.045)   0.02 s\n",
      "logr : 0.395 (+/-0.063)   0.36 s\n",
      "abc : 0.462 (+/-0.013)   0.86 s\n",
      "bc : 0.466 (+/-0.039)   0.29 s\n",
      "etc : 0.512 (+/-0.018)   0.39 s\n",
      "gbc : 0.451 (+/-0.034)   0.38 s\n",
      "lgbmc : 0.472 (+/-0.038)   0.13 s\n",
      "rfc : 0.470 (+/-0.031)   0.10 s\n",
      "vc : 0.486 (+/-0.034)   1.77 s\n",
      "svc : 0.502 (+/-0.010)   0.04 s\n",
      "gpc : 0.470 (+/-0.030)   0.62 s\n"
     ]
    }
   ],
   "source": [
    "mr = Dyn_reg_model(mr_models, clf_model = GaussianNB())\n",
    "mr.fit(X_train, y_train)\n",
    "mr.data_frame.best_model_index.value_counts()\n",
    "\n",
    "df = mr.data_frame\n",
    "le = LabelEncoder()\n",
    "df['class'] = le.fit_transform(df.best_model_index)\n",
    "df.head()\n",
    "target_train = df['class']\n",
    "clfs = {'dtc' : DecisionTreeClassifier(criterion='entropy', max_depth=None, random_state = 101),\n",
    "        'gnb' : GaussianNB(),\n",
    "        'knc' : KNeighborsClassifier(n_neighbors = 11),\n",
    "        'logr' : LogisticRegression(C = 2.7, class_weight = 'balanced', multi_class = 'multinomial', solver = 'lbfgs', random_state = 101),\n",
    "        'abc' : AdaBoostClassifier(n_estimators = 100, learning_rate = 0.1, random_state = 101),\n",
    "        'bc' : BaggingClassifier(n_estimators = 20, bootstrap_features = True, random_state = 101),\n",
    "        'etc' : ExtraTreesClassifier(n_estimators = 50, max_depth = None, class_weight = 'balanced', random_state = 101),\n",
    "        'gbc' : GradientBoostingClassifier(learning_rate = 2.0, n_estimators = 25, max_depth = 5, random_state = 101),\n",
    "        'lgbmc' : LGBMClassifier(boosting_type='goss', num_leaves = 5, max_depth = 4, \n",
    "                              learning_rate = 0.02, n_estimators = 80, class_weight = 'balanced'),\n",
    "        'rfc' : RandomForestClassifier(n_estimators = 10, max_depth = 6, class_weight = 'balanced', random_state = 101),\n",
    "        'vc' : VotingClassifier(estimators = [('nb',GaussianNB()), \n",
    "                                              ('ab',AdaBoostClassifier(n_estimators = 100, learning_rate = 2.1, random_state = 101)),\n",
    "                                              ('gp',GaussianProcessClassifier(kernel= None, multi_class='one_vs_rest', random_state = 101))],\n",
    "                                voting = 'hard'),\n",
    "        'svc' : SVC(C = 0.5, kernel='sigmoid', class_weight = 'balanced', random_state = 101),\n",
    "        'gpc' : GaussianProcessClassifier(kernel= None, multi_class='one_vs_rest', random_state = 101),\n",
    "        }\n",
    "for c in clfs:\n",
    "    start = time()\n",
    "    score = cross_val_score(clfs[c], X_train, target_train, cv=4, scoring='accuracy')\n",
    "    print('%2s : %.3f (+/-%.3f) %6.2f s' %(c, score.mean(), score.std(), time() - start))"
   ]
  },
  {
   "cell_type": "markdown",
   "metadata": {},
   "source": [
    "### Classification models results"
   ]
  },
  {
   "cell_type": "markdown",
   "metadata": {},
   "source": [
    "dtc : 0.460 (+/-0.049)   0.04 s  \n",
    "gnb : 0.443 (+/-0.092)   0.01 s  \n",
    "knc : 0.482 (+/-0.045)   0.02 s  \n",
    "logr : 0.395 (+/-0.063)   0.36 s  \n",
    "abc : 0.462 (+/-0.013)   0.86 s  \n",
    "bc : 0.466 (+/-0.039)   0.29 s  \n",
    "**etc : 0.512 (+/-0.018)   0.39 s**  \n",
    "gbc : 0.451 (+/-0.034)   0.38 s  \n",
    "lgbmc : 0.472 (+/-0.038)   0.13 s  \n",
    "rfc : 0.470 (+/-0.031)   0.10 s  \n",
    "vc : 0.486 (+/-0.034)   1.77 s  \n",
    "svc : 0.502 (+/-0.010)   0.04 s  \n",
    "gpc : 0.470 (+/-0.030)   0.62 s  "
   ]
  },
  {
   "cell_type": "code",
   "execution_count": null,
   "metadata": {},
   "outputs": [],
   "source": []
  }
 ],
 "metadata": {
  "kernelspec": {
   "display_name": "Python 3",
   "language": "python",
   "name": "python3"
  },
  "language_info": {
   "codemirror_mode": {
    "name": "ipython",
    "version": 3
   },
   "file_extension": ".py",
   "mimetype": "text/x-python",
   "name": "python",
   "nbconvert_exporter": "python",
   "pygments_lexer": "ipython3",
   "version": "3.6.5"
  }
 },
 "nbformat": 4,
 "nbformat_minor": 2
}
